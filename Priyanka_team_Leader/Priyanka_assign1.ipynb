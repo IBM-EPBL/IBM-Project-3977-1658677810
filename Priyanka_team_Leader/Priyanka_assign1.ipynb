{
  "nbformat": 4,
  "nbformat_minor": 0,
  "metadata": {
    "colab": {
      "provenance": []
    },
    "kernelspec": {
      "name": "python3",
      "display_name": "Python 3"
    },
    "language_info": {
      "name": "python"
    }
  },
  "cells": [
    {
      "cell_type": "markdown",
      "source": [
        "## 1. Split this string"
      ],
      "metadata": {
        "id": "Vw59yCvO7slz"
      }
    },
    {
      "cell_type": "code",
      "execution_count": 1,
      "metadata": {
        "id": "lvv1e2qD7kga"
      },
      "outputs": [],
      "source": [
        "s = \"Hi there Sam!\""
      ]
    },
    {
      "cell_type": "code",
      "source": [
        "txt = \"Hi there Sam!\"\n",
        "x = txt.split()\n",
        "print(x)"
      ],
      "metadata": {
        "colab": {
          "base_uri": "https://localhost:8080/"
        },
        "id": "7pxe1bW979wD",
        "outputId": "cb6871f3-3b1f-4a10-8873-8bb8092dd79c"
      },
      "execution_count": 2,
      "outputs": [
        {
          "output_type": "stream",
          "name": "stdout",
          "text": [
            "['Hi', 'there', 'Sam!']\n"
          ]
        }
      ]
    },
    {
      "cell_type": "markdown",
      "source": [
        "2. Use .format() to print the following string.\n",
        "# Output should be: The diameter of Earth is 12742 kilometers."
      ],
      "metadata": {
        "id": "topXYDrw8Ayh"
      }
    },
    {
      "cell_type": "code",
      "source": [
        "planet =\"Earth\"\n",
        "diameter=\"12742\"\n",
        "print('The diameter of {} is {} kilometer.'.format(planet,diameter));"
      ],
      "metadata": {
        "colab": {
          "base_uri": "https://localhost:8080/"
        },
        "id": "i6gOEGfF8jHM",
        "outputId": "f43658b4-800b-4dbd-f8b7-73e28634d02f"
      },
      "execution_count": 4,
      "outputs": [
        {
          "output_type": "stream",
          "name": "stdout",
          "text": [
            "The diameter of Earth is 12742 kilometer.\n"
          ]
        }
      ]
    },
    {
      "cell_type": "markdown",
      "source": [
        "3. In this nest dictionary grab the word \"hello\"\n"
      ],
      "metadata": {
        "id": "9zYqq84U8wFm"
      }
    },
    {
      "cell_type": "code",
      "source": [
        "d = {'k1':[1,2,3,{'tricky':['oh','man','inception',{'target':[1,2,3,'hello']}]}]}"
      ],
      "metadata": {
        "id": "RL2BfzKz8x29"
      },
      "execution_count": 5,
      "outputs": []
    },
    {
      "cell_type": "code",
      "source": [
        "d={'k1':[1,2,3,{'tricky':['oh','man','inception',{'target':[1,2,3,'hello']}]}]}\n",
        "print (d['k1'][3][\"tricky\"][3]['target'][3])\n"
      ],
      "metadata": {
        "colab": {
          "base_uri": "https://localhost:8080/"
        },
        "id": "eRPR91Ms81ap",
        "outputId": "2c3acfa3-dc44-48ce-80ea-36c97d6caaca"
      },
      "execution_count": 6,
      "outputs": [
        {
          "output_type": "stream",
          "name": "stdout",
          "text": [
            "hello\n"
          ]
        }
      ]
    },
    {
      "cell_type": "markdown",
      "source": [
        "Numpy\n"
      ],
      "metadata": {
        "id": "SnbpxlcJ9A0v"
      }
    },
    {
      "cell_type": "code",
      "source": [
        "import numpy as np"
      ],
      "metadata": {
        "id": "4yGosolu9Lp5"
      },
      "execution_count": 7,
      "outputs": []
    },
    {
      "cell_type": "markdown",
      "source": [
        "4.1 Create an array of 10 zeros?\n",
        "4.2 Create an array of 10 fives?"
      ],
      "metadata": {
        "id": "Fbi14W0w9TdC"
      }
    },
    {
      "cell_type": "code",
      "source": [
        "import numpy as np\n",
        "array = np.zeros(10)\n",
        "print(\"Array of 10 zeros:\")\n",
        "print(array)"
      ],
      "metadata": {
        "colab": {
          "base_uri": "https://localhost:8080/"
        },
        "id": "t2I_9agt9UPD",
        "outputId": "b6be2044-c571-4f53-af87-af4b4f679d5d"
      },
      "execution_count": 8,
      "outputs": [
        {
          "output_type": "stream",
          "name": "stdout",
          "text": [
            "Array of 10 zeros:\n",
            "[0. 0. 0. 0. 0. 0. 0. 0. 0. 0.]\n"
          ]
        }
      ]
    },
    {
      "cell_type": "code",
      "source": [
        "import numpy as np\n",
        "array = np.ones(10)*5\n",
        "print(\"Array of 10 fives:\")\n",
        "print(array)"
      ],
      "metadata": {
        "colab": {
          "base_uri": "https://localhost:8080/"
        },
        "id": "8eaqYBqQ9brO",
        "outputId": "dd1b803b-b698-4555-a7de-ab4516150194"
      },
      "execution_count": 9,
      "outputs": [
        {
          "output_type": "stream",
          "name": "stdout",
          "text": [
            "Array of 10 fives:\n",
            "[5. 5. 5. 5. 5. 5. 5. 5. 5. 5.]\n"
          ]
        }
      ]
    },
    {
      "cell_type": "markdown",
      "source": [
        "5. Create an array of all the even integers from 20 to 35"
      ],
      "metadata": {
        "id": "6t0mRl3E9wgh"
      }
    },
    {
      "cell_type": "code",
      "source": [
        "import numpy as np\n",
        "array=np.arange(20,36,2)\n",
        "print(\"Array of all the even integers from 20 to 35\")\n",
        "print(array)"
      ],
      "metadata": {
        "colab": {
          "base_uri": "https://localhost:8080/"
        },
        "id": "ykQPoucV90BW",
        "outputId": "3147b9c3-26d3-4986-b665-1e192b0eae35"
      },
      "execution_count": 10,
      "outputs": [
        {
          "output_type": "stream",
          "name": "stdout",
          "text": [
            "Array of all the even integers from 20 to 35\n",
            "[20 22 24 26 28 30 32 34]\n"
          ]
        }
      ]
    },
    {
      "cell_type": "markdown",
      "source": [
        "6. Create a 3x3 matrix with values ranging from 0 to 8"
      ],
      "metadata": {
        "id": "lmSJLpHv9-nN"
      }
    },
    {
      "cell_type": "code",
      "source": [
        "import numpy as np\n",
        "x = np.arange(0 , 9).reshape(3,3)\n",
        "print (x)"
      ],
      "metadata": {
        "colab": {
          "base_uri": "https://localhost:8080/"
        },
        "id": "20qGoeJA-ALC",
        "outputId": "bbd92cb3-055a-48a4-b73f-58a10e04afcd"
      },
      "execution_count": 11,
      "outputs": [
        {
          "output_type": "stream",
          "name": "stdout",
          "text": [
            "[[0 1 2]\n",
            " [3 4 5]\n",
            " [6 7 8]]\n"
          ]
        }
      ]
    },
    {
      "cell_type": "markdown",
      "source": [
        "7. Concatinate a and b\n",
        "a = np.array([1, 2, 3]), b = np.array([4, 5, 6])"
      ],
      "metadata": {
        "id": "g42Fivfc-grV"
      }
    },
    {
      "cell_type": "code",
      "source": [
        "import numpy as np\n",
        "array1 = np.array([[1,2,3]])\n",
        "array2= np.array([[4,5,6]])\n",
        "x= np.concatenate((array1 , array2),axis = None)\n",
        "print(x)"
      ],
      "metadata": {
        "colab": {
          "base_uri": "https://localhost:8080/"
        },
        "id": "G4iEI4oQ-kl2",
        "outputId": "b880c59d-7730-467d-93d5-5669645b9398"
      },
      "execution_count": 12,
      "outputs": [
        {
          "output_type": "stream",
          "name": "stdout",
          "text": [
            "[1 2 3 4 5 6]\n"
          ]
        }
      ]
    },
    {
      "cell_type": "markdown",
      "source": [
        "Pandas"
      ],
      "metadata": {
        "id": "vV7VZ_Ch-w3r"
      }
    },
    {
      "cell_type": "markdown",
      "source": [
        "8. Create a dataframe with 3 rows and 2 columns"
      ],
      "metadata": {
        "id": "jL07oycF-48K"
      }
    },
    {
      "cell_type": "code",
      "source": [
        "import pandas as pd"
      ],
      "metadata": {
        "id": "yPhObfFN-x20"
      },
      "execution_count": 14,
      "outputs": []
    },
    {
      "cell_type": "code",
      "source": [
        "import pandas as pd\n",
        "lst = [[1,'arya stark',20],[2, 'Jon snow' , 32],[3,'leone' ,25]]\n",
        "df = pd.DataFrame(lst,columns =['S.N0' , 'name', 'age'])\n",
        "print(df)"
      ],
      "metadata": {
        "colab": {
          "base_uri": "https://localhost:8080/"
        },
        "id": "lD10a4d1-1Dg",
        "outputId": "0fcda663-b0a8-402d-9bde-c373ad1fb886"
      },
      "execution_count": 15,
      "outputs": [
        {
          "output_type": "stream",
          "name": "stdout",
          "text": [
            "   S.N0        name  age\n",
            "0     1  arya stark   20\n",
            "1     2    Jon snow   32\n",
            "2     3       leone   25\n"
          ]
        }
      ]
    },
    {
      "cell_type": "markdown",
      "source": [
        "9. Generate the series of dates from 1st Jan, 2023 to 10th Feb, 2023"
      ],
      "metadata": {
        "id": "uy0SBYUhAMIt"
      }
    },
    {
      "cell_type": "code",
      "source": [
        "import datetime\n",
        "import pandas as pd\n",
        " \n",
        "test_date = datetime.datetime.strptime(\"01-1-2022\", \"%d-%m-%Y\")\n",
        " \n",
        "\n",
        "K = 41\n",
        " \n",
        "date_generated = pd.date_range(test_date, periods=K)\n",
        "print(date_generated.strftime(\"%d-%m-%Y\"))"
      ],
      "metadata": {
        "colab": {
          "base_uri": "https://localhost:8080/"
        },
        "id": "kK2hoTOk_SAw",
        "outputId": "9984d67d-e795-4a23-83dc-cbfd0e1ed44b"
      },
      "execution_count": 18,
      "outputs": [
        {
          "output_type": "stream",
          "name": "stdout",
          "text": [
            "Index(['01-01-2022', '02-01-2022', '03-01-2022', '04-01-2022', '05-01-2022',\n",
            "       '06-01-2022', '07-01-2022', '08-01-2022', '09-01-2022', '10-01-2022',\n",
            "       '11-01-2022', '12-01-2022', '13-01-2022', '14-01-2022', '15-01-2022',\n",
            "       '16-01-2022', '17-01-2022', '18-01-2022', '19-01-2022', '20-01-2022',\n",
            "       '21-01-2022', '22-01-2022', '23-01-2022', '24-01-2022', '25-01-2022',\n",
            "       '26-01-2022', '27-01-2022', '28-01-2022', '29-01-2022', '30-01-2022',\n",
            "       '31-01-2022', '01-02-2022', '02-02-2022', '03-02-2022', '04-02-2022',\n",
            "       '05-02-2022', '06-02-2022', '07-02-2022', '08-02-2022', '09-02-2022',\n",
            "       '10-02-2022'],\n",
            "      dtype='object')\n"
          ]
        }
      ]
    },
    {
      "cell_type": "markdown",
      "source": [
        "10. Create 2D list to DataFrame\n",
        "lists = [[1, 'aaa', 22], [2, 'bbb', 25], [3, 'ccc', 24]]"
      ],
      "metadata": {
        "id": "fLfqBjs5AV10"
      }
    },
    {
      "cell_type": "code",
      "source": [
        "lists = [[1, 'aaa', 22], [2, 'bbb', 25], [3, 'ccc', 24]]"
      ],
      "metadata": {
        "id": "hzLaGBT5AD_4"
      },
      "execution_count": 19,
      "outputs": []
    },
    {
      "cell_type": "code",
      "source": [
        "import pandas as pd\n",
        "lst = [[1,'aaa',22],[2, 'bbb' , 24]]\n",
        "df = pd.DataFrame(lst,columns =['S.N0' , 'name', 'age'])\n",
        "print(df)"
      ],
      "metadata": {
        "colab": {
          "base_uri": "https://localhost:8080/"
        },
        "id": "77ZPHRrOAZGO",
        "outputId": "d418783d-f2e9-4cca-c3d1-a88cb0ee3ffd"
      },
      "execution_count": 20,
      "outputs": [
        {
          "output_type": "stream",
          "name": "stdout",
          "text": [
            "   S.N0 name  age\n",
            "0     1  aaa   22\n",
            "1     2  bbb   24\n"
          ]
        }
      ]
    },
    {
      "cell_type": "code",
      "source": [],
      "metadata": {
        "id": "Awv7yVgLAbbo"
      },
      "execution_count": null,
      "outputs": []
    }
  ]
}